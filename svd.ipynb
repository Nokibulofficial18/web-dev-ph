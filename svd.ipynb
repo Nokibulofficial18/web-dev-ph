{
  "nbformat": 4,
  "nbformat_minor": 0,
  "metadata": {
    "colab": {
      "provenance": [],
      "authorship_tag": "ABX9TyO+G4cYqsmkJ/FYeL9U64Xa",
      "include_colab_link": true
    },
    "kernelspec": {
      "name": "python3",
      "display_name": "Python 3"
    },
    "language_info": {
      "name": "python"
    }
  },
  "cells": [
    {
      "cell_type": "markdown",
      "metadata": {
        "id": "view-in-github",
        "colab_type": "text"
      },
      "source": [
        "<a href=\"https://colab.research.google.com/github/Nokibulofficial18/web-dev-ph/blob/main/svd.ipynb\" target=\"_parent\"><img src=\"https://colab.research.google.com/assets/colab-badge.svg\" alt=\"Open In Colab\"/></a>"
      ]
    },
    {
      "cell_type": "code",
      "execution_count": null,
      "metadata": {
        "id": "SDIMDBiOVUa-"
      },
      "outputs": [],
      "source": [
        "import numpy as np\n"
      ]
    },
    {
      "cell_type": "markdown",
      "source": [
        "Theory\n",
        "X = UDV_transpose;\n",
        "U=X * X_transpose\n",
        "V = X_transpose * X\n",
        "D=eigen(U) * eigen(V) in diagonal and rest are zero."
      ],
      "metadata": {
        "id": "hRS9zTEKWtaM"
      }
    },
    {
      "cell_type": "code",
      "source": [
        "X = np.array([[3, 3, 2], [2, 3, -2]])\n",
        "print(X)\n"
      ],
      "metadata": {
        "colab": {
          "base_uri": "https://localhost:8080/"
        },
        "id": "qiw4iPy7VwPg",
        "outputId": "05d25789-8252-4d19-b76e-813a1ac1a972"
      },
      "execution_count": null,
      "outputs": [
        {
          "output_type": "stream",
          "name": "stdout",
          "text": [
            "[[ 3  3  2]\n",
            " [ 2  3 -2]]\n"
          ]
        }
      ]
    },
    {
      "cell_type": "code",
      "source": [
        "transpose_X = X.T\n",
        "print(transpose_X)"
      ],
      "metadata": {
        "colab": {
          "base_uri": "https://localhost:8080/"
        },
        "id": "HniXoUJgWHt3",
        "outputId": "a28e89ed-0507-4168-c9b5-8c2092739c9c"
      },
      "execution_count": null,
      "outputs": [
        {
          "output_type": "stream",
          "name": "stdout",
          "text": [
            "[[ 3  2]\n",
            " [ 3  3]\n",
            " [ 2 -2]]\n"
          ]
        }
      ]
    },
    {
      "cell_type": "markdown",
      "source": [
        "Finding out U and V"
      ],
      "metadata": {
        "id": "l9IcAoOzXUNP"
      }
    },
    {
      "cell_type": "code",
      "source": [
        "XXt = np.dot(X,transpose_X)\n",
        "XtX = np.dot(transpose_X,X)\n",
        "print(XXt)\n",
        "print(XtX)"
      ],
      "metadata": {
        "colab": {
          "base_uri": "https://localhost:8080/"
        },
        "id": "oC8MazpCWaDb",
        "outputId": "0c082419-601d-45d6-a752-d9764d980e24"
      },
      "execution_count": null,
      "outputs": [
        {
          "output_type": "stream",
          "name": "stdout",
          "text": [
            "[[22 11]\n",
            " [11 17]]\n",
            "[[13 15  2]\n",
            " [15 18  0]\n",
            " [ 2  0  8]]\n"
          ]
        }
      ]
    },
    {
      "cell_type": "markdown",
      "source": [
        "Calculate eigenvalues and eigenvectors of X^T * X (for V) and X * X^T (for U)"
      ],
      "metadata": {
        "id": "3huA6zKRXn14"
      }
    },
    {
      "cell_type": "code",
      "source": [
        "eigvals_XtX, V = np.linalg.eig(XtX)\n",
        "eigvals_XXt, U = np.linalg.eig(XXt)\n"
      ],
      "metadata": {
        "id": "qU-BEkEaXiBo"
      },
      "execution_count": null,
      "outputs": []
    },
    {
      "cell_type": "markdown",
      "source": [
        "Singular values are square roots of eigenvalues (sorted)"
      ],
      "metadata": {
        "id": "3Mz5Lxq1YIQ-"
      }
    },
    {
      "cell_type": "code",
      "source": [
        "singular_vals = np.sqrt(np.abs(eigvals_XtX))\n",
        "print(singular_vals)"
      ],
      "metadata": {
        "colab": {
          "base_uri": "https://localhost:8080/"
        },
        "id": "pFKqyaDKYJTQ",
        "outputId": "d16701bb-6a91-418a-98bc-4745e9d93a96"
      },
      "execution_count": null,
      "outputs": [
        {
          "output_type": "stream",
          "name": "stdout",
          "text": [
            "[5.54801894e+00 5.28151053e-08 2.86696457e+00]\n"
          ]
        }
      ]
    },
    {
      "cell_type": "markdown",
      "source": [
        "Sorting singular values and associated vectors"
      ],
      "metadata": {
        "id": "cc_N-5wBYvlo"
      }
    },
    {
      "cell_type": "code",
      "source": [
        "sorted_idx = np.argsort(-singular_vals)\n",
        "singular_vals = singular_vals[sorted_idx]\n",
        "print(sorted_idx)"
      ],
      "metadata": {
        "id": "a1YTRhoGYmwB",
        "outputId": "acc901a2-027d-43a7-ab48-66042edaddb2",
        "colab": {
          "base_uri": "https://localhost:8080/"
        }
      },
      "execution_count": null,
      "outputs": [
        {
          "output_type": "stream",
          "name": "stdout",
          "text": [
            "[0 2 1]\n"
          ]
        }
      ]
    },
    {
      "cell_type": "markdown",
      "source": [
        "Construct Sigma (singular value matrix) in diagonal form"
      ],
      "metadata": {
        "id": "n-yJuB7gZVUR"
      }
    },
    {
      "cell_type": "code",
      "source": [
        "print(X.shape)\n",
        "Sigma = np.zeros((X.shape[0], X.shape[1]))\n",
        "np.fill_diagonal(Sigma,singular_vals)\n"
      ],
      "metadata": {
        "id": "9QhpHHOAYyCh",
        "colab": {
          "base_uri": "https://localhost:8080/"
        },
        "outputId": "5d3d12b9-6914-48dd-9147-432d5f93f7eb"
      },
      "execution_count": null,
      "outputs": [
        {
          "output_type": "stream",
          "name": "stdout",
          "text": [
            "(2, 3)\n"
          ]
        }
      ]
    },
    {
      "cell_type": "code",
      "source": [
        "print(\"U:\\n\", U)\n",
        "print(\"Singular values (diagonal matrix):\\n\", Sigma)\n",
        "print(\"V^T:\\n\", V.T)"
      ],
      "metadata": {
        "colab": {
          "base_uri": "https://localhost:8080/"
        },
        "id": "hi9FMcpmZecg",
        "outputId": "d5384967-29d4-4f7d-98c7-1330d50f6ce7"
      },
      "execution_count": null,
      "outputs": [
        {
          "output_type": "stream",
          "name": "stdout",
          "text": [
            "U:\n",
            " [[ 0.7815437 -0.6238505]\n",
            " [ 0.6238505  0.7815437]]\n",
            "Singular values (diagonal matrix):\n",
            " [[5.54801894 0.         0.        ]\n",
            " [0.         2.86696457 0.        ]]\n",
            "V^T:\n",
            " [[ 0.64749817  0.7599438   0.05684667]\n",
            " [ 0.75443354 -0.62869461 -0.18860838]\n",
            " [ 0.10759258 -0.16501062  0.9804057 ]]\n"
          ]
        }
      ]
    },
    {
      "cell_type": "code",
      "source": [],
      "metadata": {
        "id": "5v8fBsXjZhu7"
      },
      "execution_count": null,
      "outputs": []
    }
  ]
}